{
 "cells": [
  {
   "cell_type": "code",
   "execution_count": 3,
   "metadata": {},
   "outputs": [
    {
     "name": "stdout",
     "output_type": "stream",
     "text": [
      "training data is ready, classifier is loading...\n"
     ]
    },
    {
     "data": {
      "text/plain": [
       "-1"
      ]
     },
     "execution_count": 3,
     "metadata": {},
     "output_type": "execute_result"
    }
   ],
   "source": [
    "from color_recognition_api import knn_classifier\n",
    "from color_recognition_api import color_histogram_feature_extraction\n",
    "import cv2\n",
    "import os\n",
    "import os.path\n",
    "\n",
    "# read the test image\n",
    "source_image = cv2.imread('C:/Users/Dua/Desktop/test_green.png')\n",
    "prediction = 'n.a.'\n",
    "\n",
    "# checking whether the training data is ready\n",
    "PATH = 'C:/Users/Dua/Desktop/training.data'\n",
    "\n",
    "if os.path.isfile(PATH) and os.access(PATH, os.R_OK):\n",
    "    print ('training data is ready, classifier is loading...')\n",
    "else:\n",
    "    print ('training data is being created...')\n",
    "    open('C:/Users/Dua/Desktop/training.data', 'w')\n",
    "    color_histogram_feature_extraction.training()\n",
    "    print ('training data is ready, classifier is loading...')\n",
    "\n",
    "# get the prediction\n",
    "color_histogram_feature_extraction.color_histogram_of_test_image(source_image)\n",
    "prediction = knn_classifier.main('C:/Users/Dua/Desktop/training.data', 'C:/Users/Dua/Desktop/test.data')\n",
    "cv2.putText(\n",
    "    source_image,\n",
    "    'Prediction: ' + prediction,\n",
    "    (15, 45),\n",
    "    cv2.FONT_HERSHEY_PLAIN,\n",
    "    3,\n",
    "    200,\n",
    "    )\n",
    "\n",
    "# Display the resulting frame\n",
    "cv2.imshow('color classifier', source_image)\n",
    "cv2.waitKey(0)"
   ]
  },
  {
   "cell_type": "code",
   "execution_count": null,
   "metadata": {},
   "outputs": [],
   "source": []
  }
 ],
 "metadata": {
  "kernelspec": {
   "display_name": "Python 3",
   "language": "python",
   "name": "python3"
  },
  "language_info": {
   "codemirror_mode": {
    "name": "ipython",
    "version": 3
   },
   "file_extension": ".py",
   "mimetype": "text/x-python",
   "name": "python",
   "nbconvert_exporter": "python",
   "pygments_lexer": "ipython3",
   "version": "3.7.0"
  }
 },
 "nbformat": 4,
 "nbformat_minor": 2
}
